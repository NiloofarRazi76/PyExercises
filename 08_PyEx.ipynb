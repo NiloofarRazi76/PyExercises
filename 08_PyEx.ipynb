{
  "nbformat": 4,
  "nbformat_minor": 0,
  "metadata": {
    "colab": {
      "name": "08-PyEx.ipynb",
      "provenance": [],
      "collapsed_sections": []
    },
    "kernelspec": {
      "display_name": "Python 3",
      "name": "python3"
    },
    "language_info": {
      "name": "python"
    }
  },
  "cells": [
    {
      "cell_type": "markdown",
      "metadata": {
        "id": "blUcYT9QvFR3"
      },
      "source": [
        "# 08 - Beginner Exercises\n",
        "\n",
        "\n",
        "*   Defining Functions\n"
      ]
    },
    {
      "cell_type": "markdown",
      "metadata": {
        "id": "rqkAAQ0xvVjJ"
      },
      "source": [
        "## 🍳🍳🍳\n",
        "1.Define a function named **```myfunc```** which will print **\"Hello World!\"** "
      ]
    },
    {
      "cell_type": "code",
      "metadata": {
        "id": "OlCfC5bIvUe_"
      },
      "source": [
        "# Write your own code in this cell \n",
        "\n"
      ],
      "execution_count": null,
      "outputs": []
    },
    {
      "cell_type": "markdown",
      "metadata": {
        "id": "Ci7IomPSvsDP"
      },
      "source": [
        "## 🍳🍳🍳 \n",
        "2.Now, assign **```myfunc```** to variable **```myvar```** and then print **```myvar```**.\n",
        "Let's see what happens. "
      ]
    },
    {
      "cell_type": "code",
      "metadata": {
        "id": "IxtmtmUtv1bV"
      },
      "source": [
        "# Write your own code in this cell \n",
        "def myfunc():\n",
        "\n",
        "myvar =\n",
        "\n"
      ],
      "execution_count": null,
      "outputs": []
    },
    {
      "cell_type": "markdown",
      "metadata": {
        "id": "YCp_vHzrvshU"
      },
      "source": [
        "## 🍳🍳🍳\n",
        "3.Define the same **```myfunc```** function once more, but this time it should ***return*** \"Hello, World!\" instead of simply printing it.  "
      ]
    },
    {
      "cell_type": "code",
      "metadata": {
        "id": "6E40sMtzFmB7"
      },
      "source": [
        "# Write your own code in this cell \n"
      ],
      "execution_count": null,
      "outputs": []
    },
    {
      "cell_type": "markdown",
      "metadata": {
        "id": "FAqoBI6gvs4B"
      },
      "source": [
        "## 🍳🍳🍳\n",
        "4.Make a function called **```myfunc```** that prints and returns \"Hello World!\" "
      ]
    },
    {
      "cell_type": "code",
      "metadata": {
        "id": "JSqJcpAfGduO"
      },
      "source": [
        "# Write your own code in this cell \n"
      ],
      "execution_count": null,
      "outputs": []
    },
    {
      "cell_type": "markdown",
      "metadata": {
        "id": "Ov2nxJGEvuNK"
      },
      "source": [
        "## 🍳🍳🍳\n",
        "5.Create a function named **```not_found```** which always returns the number: 404\n",
        " \n"
      ]
    },
    {
      "cell_type": "code",
      "metadata": {
        "id": "IwsSujyIv5UJ"
      },
      "source": [
        "# Write your own code in this cell \n",
        "\n"
      ],
      "execution_count": null,
      "outputs": []
    },
    {
      "cell_type": "markdown",
      "metadata": {
        "id": "zvbiodz0vuik"
      },
      "source": [
        "## 🍳🍳\n",
        "6.Create a function that takes a list as input, reverses the order of the elements in the list, and returns it as output. Use the ```range()``` function to create a list of numbers from 1 to 100 and give it as input to the function you created.\n",
        " \n"
      ]
    },
    {
      "cell_type": "code",
      "metadata": {
        "id": "9XWlEy3Rv5_-"
      },
      "source": [
        "# Write your own code in this cell \n"
      ],
      "execution_count": null,
      "outputs": []
    },
    {
      "cell_type": "markdown",
      "metadata": {
        "id": "5s3h3Xuivu5_"
      },
      "source": [
        "## 🍳🍳 \n",
        "7.Create a function called **```myfunc```** that will ask the user for his\\her name and then print **\"Hello !, Name\"**   "
      ]
    },
    {
      "cell_type": "code",
      "metadata": {
        "id": "DIbjxMfmv7LF"
      },
      "source": [
        "# Write your own code in this cell \n",
        "\n"
      ],
      "execution_count": null,
      "outputs": []
    },
    {
      "cell_type": "markdown",
      "metadata": {
        "id": "mBlaZEdPvtid"
      },
      "source": [
        "## 🍳 \n",
        "8.Mosi has a large number of quadratic equations  ($ax^{2} + bx + c =0$)that he needs to solve quickly and has asked you to use your Python knowledge to assist him. \n",
        "As you know, the roots of the quadratic equation can be obtained using the following formula: \n",
        "$$x= \\frac{-b\pm \\sqrt{ \\Delta } }{2a} $$\n",
        "\n",
        "If the delta is a number greater than zero ($\\Delta  > 0$), our quadratic equation has two roots as follows: \n",
        "$$x_{1}= \\frac{-b+ \\sqrt{ \\Delta } }{2a} $$\n",
        "$$x_{2}= \\frac{-b- \\sqrt{ \\Delta } }{2a} $$\n",
        "We also know that Delta equals: \n",
        "$$ \\Delta =  b^{2} - 4ac$$\n",
        "According to the above description, write a function called Delta that takes the three values of a, b, and c and returns the delta. \n",
        "\n",
        "Then create another function called a quadratic that takes the three values of a, b, and c, and use both the delta function and the formulas we know to get both roots of the quadratic equation.\n",
        "Then return the results as a tuple  ($x_{1}, x_{2}$).\n",
        "\n",
        "$$13x^{2} + 661x - 71 =0$$\n"
      ]
    },
    {
      "cell_type": "code",
      "metadata": {
        "id": "X8F0KXPzv8h-"
      },
      "source": [
        "# Write your own code in this cell \n",
        "\n",
        "def delta(a,b,c):\n",
        "    return b**2 - 4*a*c\n",
        "\n",
        "def quadratic(a,b,c):\n",
        "     d = delta(a,b,c)\n",
        "     x1= (-b + d **.5)/(2*a)\n",
        "     x2= (-b - d **.5)/(2*a)\n",
        "     return(x1, x2)\n"
      ],
      "execution_count": null,
      "outputs": []
    },
    {
      "cell_type": "markdown",
      "metadata": {
        "id": "mf1vZvUnmI_d"
      },
      "source": [
        "Run the following cell after the previous cell to see if the function you wrote above works properly. \n",
        "With this example we check the function. \n",
        "$$13x^{2} + 661x - 71 =0$$"
      ]
    },
    {
      "cell_type": "code",
      "metadata": {
        "colab": {
          "background_save": true,
          "base_uri": "https://localhost:8080/"
        },
        "id": "xbRBsk4Dnr6b",
        "outputId": "f6a83074-c763-48ae-f97e-cf10be3d336a"
      },
      "source": [
        "# Run this cell\n",
        "x = quadratic(13, 661, -71)\n",
        "ep = 1e-6\n",
        "if sum(x) - sum([0.107187,-50.9533]) < ep:\n",
        "    print(sum(x) , sum([0.107187,-50.9533]))\n",
        "    print(\"your function works like a charm\") "
      ],
      "execution_count": null,
      "outputs": [
        {
          "name": "stdout",
          "output_type": "stream",
          "text": [
            "-50.846153846153854 -50.846112999999995 -4.084615385835377e-05\n",
            "your function works like a charm\n"
          ]
        }
      ]
    },
    {
      "cell_type": "markdown",
      "metadata": {
        "id": "kqSVPFDkvtNs"
      },
      "source": [
        "## 🍳\n",
        "9.Create a function that finds the nth number in the triangular numbers sequence . Then print the 1000th member of this sequence. \n",
        "\n",
        "![image.png](data:image/png;base64,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)\n"
      ]
    },
    {
      "cell_type": "code",
      "metadata": {
        "id": "xhaYyMRov3a4"
      },
      "source": [
        "# Write your own code in this cell "
      ],
      "execution_count": null,
      "outputs": []
    }
  ]
}
