{
  "nbformat": 4,
  "nbformat_minor": 0,
  "metadata": {
    "colab": {
      "name": "08-PyEx.ipynb",
      "provenance": [],
      "collapsed_sections": []
    },
    "kernelspec": {
      "display_name": "Python 3",
      "name": "python3"
    },
    "language_info": {
      "name": "python"
    }
  },
  "cells": [
    {
      "cell_type": "markdown",
      "metadata": {
        "id": "blUcYT9QvFR3"
      },
      "source": [
        "# 08 - Beginner Exercises\n",
        "\n",
        "\n",
        "*   Defining Functions\n"
      ]
    },
    {
      "cell_type": "markdown",
      "metadata": {
        "id": "rqkAAQ0xvVjJ"
      },
      "source": [
        "## 🍳🍳🍳\n",
        "1.Define a function named **```myfunc```** which will print **\"Hello World!\"** "
      ]
    },
    {
      "cell_type": "code",
      "metadata": {
        "id": "OlCfC5bIvUe_"
      },
      "source": [
        "# Write your own code in this cell \n",
        "\n"
      ],
      "execution_count": null,
      "outputs": []
    },
    {
      "cell_type": "markdown",
      "metadata": {
        "id": "Ci7IomPSvsDP"
      },
      "source": [
        "## 🍳🍳🍳 \n",
        "2.Now, assign **```myfunc```** to variable **```myvar```** and then print **```myvar```**.\n",
        "Let's see what happens. "
      ]
    },
    {
      "cell_type": "code",
      "metadata": {
        "id": "IxtmtmUtv1bV"
      },
      "source": [
        "# Write your own code in this cell \n",
        "def myfunc():\n",
        "\n",
        "myvar =\n",
        "\n"
      ],
      "execution_count": null,
      "outputs": []
    },
    {
      "cell_type": "markdown",
      "metadata": {
        "id": "YCp_vHzrvshU"
      },
      "source": [
        "## 🍳🍳🍳\n",
        "3.Define the same **```myfunc```** function once more, but this time it should ***return*** \"Hello, World!\" instead of simply printing it.  "
      ]
    },
    {
      "cell_type": "code",
      "metadata": {
        "id": "6E40sMtzFmB7"
      },
      "source": [
        "# Write your own code in this cell \n"
      ],
      "execution_count": null,
      "outputs": []
    },
    {
      "cell_type": "markdown",
      "metadata": {
        "id": "FAqoBI6gvs4B"
      },
      "source": [
        "## 🍳🍳🍳\n",
        "4.Make a function called **```myfunc```** that prints and returns \"Hello World!\" "
      ]
    },
    {
      "cell_type": "code",
      "metadata": {
        "id": "JSqJcpAfGduO"
      },
      "source": [
        "# Write your own code in this cell \n"
      ],
      "execution_count": null,
      "outputs": []
    },
    {
      "cell_type": "markdown",
      "metadata": {
        "id": "Ov2nxJGEvuNK"
      },
      "source": [
        "## 🍳🍳🍳\n",
        "5.Create a function named **```not_found```** which always returns the number: 404\n",
        " \n"
      ]
    },
    {
      "cell_type": "code",
      "metadata": {
        "id": "IwsSujyIv5UJ"
      },
      "source": [
        "# Write your own code in this cell \n",
        "\n"
      ],
      "execution_count": null,
      "outputs": []
    },
    {
      "cell_type": "markdown",
      "metadata": {
        "id": "zvbiodz0vuik"
      },
      "source": [
        "## 🍳🍳\n",
        "6.Create a function that takes a list as input, reverses the order of the elements in the list, and returns it as output. Use the ```range()``` function to create a list of numbers from 1 to 100 and give it as input to the function you created.\n",
        " \n"
      ]
    },
    {
      "cell_type": "code",
      "metadata": {
        "id": "9XWlEy3Rv5_-"
      },
      "source": [
        "# Write your own code in this cell \n"
      ],
      "execution_count": null,
      "outputs": []
    },
    {
      "cell_type": "markdown",
      "metadata": {
        "id": "5s3h3Xuivu5_"
      },
      "source": [
        "## 🍳🍳 \n",
        "7.Create a function called **```myfunc```** that will ask the user for his\\her name and then print **\"Hello !, Name\"**   "
      ]
    },
    {
      "cell_type": "code",
      "metadata": {
        "id": "DIbjxMfmv7LF"
      },
      "source": [
        "# Write your own code in this cell \n",
        "\n"
      ],
      "execution_count": null,
      "outputs": []
    },
    {
      "cell_type": "markdown",
      "metadata": {
        "id": "mBlaZEdPvtid"
      },
      "source": [
        "## 🍳 \n",
        "8.Mosi has a large number of quadratic equations  ($ax^{2} + bx + c =0$)that he needs to solve quickly and has asked you to use your Python knowledge to assist him. \n",
        "As you know, the roots of the quadratic equation can be obtained using the following formula: \n",
        "$$x= \\frac{-b \\pm \\sqrt{ \\Delta } }{2a} $$\n",
        "\n",
        "If the delta is a number greater than zero ($\\Delta  > 0$), our quadratic equation has two roots as follows: \n",
        "$$x_{1}= \\frac{-b+ \\sqrt{ \\Delta } }{2a} $$\n",
        "$$x_{2}= \\frac{-b- \\sqrt{ \\Delta } }{2a} $$\n",
        "We also know that Delta equals: \n",
        "$$ \\Delta =  b^{2} - 4ac$$\n",
        "According to the above description, write a function called Delta that takes the three values of a, b, and c and returns the delta. \n",
        "\n",
        "Then create another function called a quadratic that takes the three values of a, b, and c, and use both the delta function and the formulas we know to get both roots of the quadratic equation.\n",
        "Then return the results as a tuple  ($x_{1}, x_{2}$).\n",
        "\n",
      ]
    },
    {
      "cell_type": "code",
      "metadata": {
        "id": "X8F0KXPzv8h-"
      },
      "source": [
        "# Write your own code in this cell \n",
        "\n",
        "def delta():\n",
        "   \n",
        "\n",
        "def quadratic():\n",
        "     x1 = \n",
        "     x2 = \n",
        "     return(x1, x2)\n"
      ],
      "execution_count": null,
      "outputs": []
    },
    {
      "cell_type": "markdown",
      "metadata": {
        "id": "mf1vZvUnmI_d"
      },
      "source": [
        "Run the following cell after the previous cell to see if the function you wrote above works properly. \n",
        "With this example we check the function. \n",
        "$$13x^{2} + 661x - 71 =0$$"
      ]
    },
    {
      "cell_type": "code",
      "metadata": {
        "colab": {
          "background_save": true
        },
        "id": "xbRBsk4Dnr6b"
      },
      "source": [
        "# Run this cell\n",
        "x = quadratic(13, 661, -71)\n",
        "ep = 1e-6\n",
        "if sum(x) - sum([0.107187,-50.9533]) < ep:\n",
        "    print(sum(x) , sum([0.107187,-50.9533]))\n",
        "    print(\"your function works like a charm\") "
      ],
      "execution_count": null,
      "outputs": []
    },
    {
      "cell_type": "markdown",
      "metadata": {
        "id": "kqSVPFDkvtNs"
      },
      "source": [
        "## 🍳\n",
        "9.Create a function that finds the nth number in the triangular numbers sequence . Then print the 1000th member of this sequence. \n",
        "$T_{0}=0$, $T_{1}=1$, $T_{2}=3$, $T_{3}=6$, $T_{4}=10$, $T_{5}=15$, $T_{6}=21$, $T_{7}=28$, $T_{8}=36 ...$ \n",
        "\n",
        "**```Wikipedi:```** [Triangular number](https://en.wikipedia.org/wiki/Triangular_number)\n"
      ]
    },
    {
      "cell_type": "code",
      "metadata": {
        "id": "xhaYyMRov3a4"
      },
      "source": [
        "# Write your own code in this cell "
      ],
      "execution_count": null,
      "outputs": []
    }
  ]
}
